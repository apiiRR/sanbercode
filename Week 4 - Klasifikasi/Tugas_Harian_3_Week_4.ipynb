{
  "nbformat": 4,
  "nbformat_minor": 0,
  "metadata": {
    "kernelspec": {
      "display_name": "Python 3",
      "language": "python",
      "name": "python3"
    },
    "language_info": {
      "codemirror_mode": {
        "name": "ipython",
        "version": 3
      },
      "file_extension": ".py",
      "mimetype": "text/x-python",
      "name": "python",
      "nbconvert_exporter": "python",
      "pygments_lexer": "ipython3",
      "version": "3.7.6"
    },
    "colab": {
      "name": "Tugas Harian 3 Week 4.ipynb",
      "provenance": [],
      "collapsed_sections": [],
      "include_colab_link": true
    }
  },
  "cells": [
    {
      "cell_type": "markdown",
      "metadata": {
        "id": "view-in-github",
        "colab_type": "text"
      },
      "source": [
        "<a href=\"https://colab.research.google.com/github/Nanangk/Bootcamp_Python_dari_SanberCode/blob/master/Week%204%20-%20Klasifikasi%20/Tugas_Harian_3_Week_4.ipynb\" target=\"_parent\"><img src=\"https://colab.research.google.com/assets/colab-badge.svg\" alt=\"Open In Colab\"/></a>"
      ]
    },
    {
      "cell_type": "markdown",
      "metadata": {
        "id": "MD7WOn3lbTS7",
        "colab_type": "text"
      },
      "source": [
        "<h1> Quiz 1 : Pemahaman Tentang Model Evaluasi</h1>\n",
        "\n",
        "Jawab pertanyaan di bawah ini dengan bahasa kalian masing2?\n",
        "\n",
        "1. Apa perbedaan antara data latih, data validasi, dan data test?\n",
        "2. Bagaimana cara kita menilai performa suatu model?\n",
        "3. Apa itu Confusion Matriks? Jelaskan secara lengkap!\n",
        "4. Apa itu Classification Report dari sklearn?\n",
        "\n",
        "#jawab\n",
        "1. Data latih merupakan data yg digunakan untuk melatih model, data validasi merupakan data yg digunakan untuk memvalidasi model, dan data test merupakan data yg digunakan untuk menguji model\n",
        "2. kita harus membagi dataset menjadi data latih dan data test\n",
        "3. Confusion matrix adalah suatu metode yang biasanya digunakan untuk melakukan perhitungan akurasi pada konsep data mining atau Sistem Pendukung Keputusan. Pada pengukuran kinerja menggunakan confusion matrix, terdapat 4 (empat) istilah sebagai representasi hasil proses klasifikasi. Keempat istilah tersebut adalah True Positive (TP), True Negative (TN), False Positive (FP) dan False Negative (FN). Nilai True Negative (TN) merupakan jumlah data negatif yang terdeteksi dengan benar, sedangkan False Positive (FP) merupakan data negatif namun terdeteksi sebagai data positif. Sementara itu, True Positive (TP) merupakan data positif yang terdeteksi benar. False Negative (FN) merupakan kebalikan dari True Positive, sehingga data posifit, namun terdeteksi sebagai data negatif.\n",
        "4. "
      ]
    },
    {
      "cell_type": "markdown",
      "metadata": {
        "id": "31vwzC5ZbTTA",
        "colab_type": "text"
      },
      "source": [
        "<h1>Quiz 2 : Applikasi Model Evaluasi</h1>\n",
        "\n",
        "Kali ini kita akan menggunakan data untuk memprediksi kelangsungan hidup pasien yang telah mengalami operasi payu dara. Dengan informasi yang dimiliki terkait pasien, kita akan membuat model untuk memprediksi apakah pasien akan bertahan hidup dalam waktu lebih dari 5 tahun atau tidak.\n",
        "\n",
        "Lebih Lengkapnya kalian bisa membaca informasi tentang dataset di link berikut : https://raw.githubusercontent.com/jbrownlee/Datasets/master/haberman.names\n",
        "\n",
        "Buat model Klasifikasi (Model/Algoritma Bebas) untuk memprediksi status pasien. dengan ketentuan sebagai berikut :\n",
        "\n",
        "1. Bagi kedua data ini menjadi data training dan data test dengan test_size=0.25.\n",
        "3. Pelajar tentang metrics roc_auc_score kemudian buatlah model dan evaluasi dengan menggunakan teknik cross-validation dengan scoring 'roc_auc'. baca https://scikit-learn.org/stable/modules/generated/sklearn.model_selection.cross_val_score.html untuk menggunakan metric roc_auc saat cross-validation.\n",
        "3. Berapa score rata2 dari model dengan teknik cross-validation tersebut?\n",
        "4. Prediksi data test dengan model yang telah kalian buat!\n",
        "5. Bagaimana hasil confusion matrix dari hasil prediksi tersebut?\n",
        "6. Bagaimana classification report dari hasil prediksi tersebut?\n",
        "5. Seberapa baik model anda dalam memprediksi seorang pasien mempunyai status positive?\n",
        "6. Seberapa baik model anda dalam memprediksi seorang pasien mempunyai status negatif?"
      ]
    },
    {
      "cell_type": "code",
      "metadata": {
        "id": "2rcRnDJCbTTB",
        "colab_type": "code",
        "colab": {}
      },
      "source": [
        "import pandas as pd\n",
        "\n",
        "url = 'https://raw.githubusercontent.com/jbrownlee/Datasets/master/haberman.csv'\n",
        "list_cols = ['Age', \"Patient's Years\", \"N_positive_ax\", \"survival_status\"]\n",
        "df = pd.read_csv(url, names=list_cols)"
      ],
      "execution_count": 0,
      "outputs": []
    },
    {
      "cell_type": "code",
      "metadata": {
        "id": "-n5nKI69bTTR",
        "colab_type": "code",
        "outputId": "7f1faaf5-8253-4b47-b933-cd107f6fbade",
        "colab": {
          "base_uri": "https://localhost:8080/",
          "height": 196
        }
      },
      "source": [
        "df.head()"
      ],
      "execution_count": 2,
      "outputs": [
        {
          "output_type": "execute_result",
          "data": {
            "text/html": [
              "<div>\n",
              "<style scoped>\n",
              "    .dataframe tbody tr th:only-of-type {\n",
              "        vertical-align: middle;\n",
              "    }\n",
              "\n",
              "    .dataframe tbody tr th {\n",
              "        vertical-align: top;\n",
              "    }\n",
              "\n",
              "    .dataframe thead th {\n",
              "        text-align: right;\n",
              "    }\n",
              "</style>\n",
              "<table border=\"1\" class=\"dataframe\">\n",
              "  <thead>\n",
              "    <tr style=\"text-align: right;\">\n",
              "      <th></th>\n",
              "      <th>Age</th>\n",
              "      <th>Patient's Years</th>\n",
              "      <th>N_positive_ax</th>\n",
              "      <th>survival_status</th>\n",
              "    </tr>\n",
              "  </thead>\n",
              "  <tbody>\n",
              "    <tr>\n",
              "      <th>0</th>\n",
              "      <td>30</td>\n",
              "      <td>64</td>\n",
              "      <td>1</td>\n",
              "      <td>1</td>\n",
              "    </tr>\n",
              "    <tr>\n",
              "      <th>1</th>\n",
              "      <td>30</td>\n",
              "      <td>62</td>\n",
              "      <td>3</td>\n",
              "      <td>1</td>\n",
              "    </tr>\n",
              "    <tr>\n",
              "      <th>2</th>\n",
              "      <td>30</td>\n",
              "      <td>65</td>\n",
              "      <td>0</td>\n",
              "      <td>1</td>\n",
              "    </tr>\n",
              "    <tr>\n",
              "      <th>3</th>\n",
              "      <td>31</td>\n",
              "      <td>59</td>\n",
              "      <td>2</td>\n",
              "      <td>1</td>\n",
              "    </tr>\n",
              "    <tr>\n",
              "      <th>4</th>\n",
              "      <td>31</td>\n",
              "      <td>65</td>\n",
              "      <td>4</td>\n",
              "      <td>1</td>\n",
              "    </tr>\n",
              "  </tbody>\n",
              "</table>\n",
              "</div>"
            ],
            "text/plain": [
              "   Age  Patient's Years  N_positive_ax  survival_status\n",
              "0   30               64              1                1\n",
              "1   30               62              3                1\n",
              "2   30               65              0                1\n",
              "3   31               59              2                1\n",
              "4   31               65              4                1"
            ]
          },
          "metadata": {
            "tags": []
          },
          "execution_count": 2
        }
      ]
    },
    {
      "cell_type": "code",
      "metadata": {
        "id": "SyxfYwxMbTTf",
        "colab_type": "code",
        "outputId": "e6c635c6-cdbc-4317-d5d9-456945613a99",
        "colab": {
          "base_uri": "https://localhost:8080/",
          "height": 67
        }
      },
      "source": [
        "df['survival_status'].value_counts()"
      ],
      "execution_count": 3,
      "outputs": [
        {
          "output_type": "execute_result",
          "data": {
            "text/plain": [
              "1    225\n",
              "2     81\n",
              "Name: survival_status, dtype: int64"
            ]
          },
          "metadata": {
            "tags": []
          },
          "execution_count": 3
        }
      ]
    },
    {
      "cell_type": "code",
      "metadata": {
        "id": "fIrJi03foP6T",
        "colab_type": "code",
        "colab": {}
      },
      "source": [
        "x = df[[\"Age\",\"Patient's Years\", \"N_positive_ax\"]]\n",
        "y = df['survival_status']"
      ],
      "execution_count": 0,
      "outputs": []
    },
    {
      "cell_type": "code",
      "metadata": {
        "id": "AKlv-bPPbTTm",
        "colab_type": "code",
        "colab": {}
      },
      "source": [
        "from sklearn.naive_bayes import GaussianNB\n",
        "from sklearn.model_selection import train_test_split, cross_val_score"
      ],
      "execution_count": 0,
      "outputs": []
    },
    {
      "cell_type": "code",
      "metadata": {
        "id": "6dqyWLrJnWz6",
        "colab_type": "code",
        "colab": {}
      },
      "source": [
        "X_train, X_test, y_train, y_test = train_test_split(x,y,\n",
        "                                                    test_size=0.25,\n",
        "                                                    random_state=20)"
      ],
      "execution_count": 0,
      "outputs": []
    },
    {
      "cell_type": "code",
      "metadata": {
        "id": "v_a-5-uer3aC",
        "colab_type": "code",
        "colab": {
          "base_uri": "https://localhost:8080/",
          "height": 33
        },
        "outputId": "3d467759-7b6e-4a6c-9fd4-b7349ac0d948"
      },
      "source": [
        "model = GaussianNB()\n",
        "model.fit(X_train,y_train)"
      ],
      "execution_count": 25,
      "outputs": [
        {
          "output_type": "execute_result",
          "data": {
            "text/plain": [
              "GaussianNB(priors=None, var_smoothing=1e-09)"
            ]
          },
          "metadata": {
            "tags": []
          },
          "execution_count": 25
        }
      ]
    },
    {
      "cell_type": "code",
      "metadata": {
        "id": "eMe-4FGHna2x",
        "colab_type": "code",
        "colab": {}
      },
      "source": [
        "score = cross_val_score(model, x, y, cv=5)"
      ],
      "execution_count": 0,
      "outputs": []
    },
    {
      "cell_type": "code",
      "metadata": {
        "id": "MCaOITezsKSz",
        "colab_type": "code",
        "colab": {
          "base_uri": "https://localhost:8080/",
          "height": 33
        },
        "outputId": "331d6b2f-9cdd-405d-e47a-392f27742a57"
      },
      "source": [
        "score.mean()"
      ],
      "execution_count": 27,
      "outputs": [
        {
          "output_type": "execute_result",
          "data": {
            "text/plain": [
              "0.7516129032258065"
            ]
          },
          "metadata": {
            "tags": []
          },
          "execution_count": 27
        }
      ]
    },
    {
      "cell_type": "code",
      "metadata": {
        "id": "zlZ02erKscTO",
        "colab_type": "code",
        "colab": {
          "base_uri": "https://localhost:8080/",
          "height": 84
        },
        "outputId": "bf5adbe3-4c64-42d1-a1b6-bc15c372c89d"
      },
      "source": [
        "ypred = model.predict(X_test)\n",
        "ypred"
      ],
      "execution_count": 42,
      "outputs": [
        {
          "output_type": "execute_result",
          "data": {
            "text/plain": [
              "array([1, 1, 1, 1, 1, 1, 1, 2, 1, 1, 1, 1, 1, 1, 1, 2, 1, 1, 1, 1, 1, 1,\n",
              "       1, 1, 1, 1, 1, 1, 1, 1, 1, 1, 1, 1, 1, 1, 2, 1, 2, 1, 1, 1, 1, 1,\n",
              "       1, 1, 1, 1, 1, 1, 1, 1, 1, 1, 1, 1, 1, 1, 1, 1, 1, 2, 1, 1, 1, 1,\n",
              "       2, 1, 2, 1, 1, 1, 1, 1, 1, 2, 1])"
            ]
          },
          "metadata": {
            "tags": []
          },
          "execution_count": 42
        }
      ]
    },
    {
      "cell_type": "code",
      "metadata": {
        "id": "otN-9OOLuCGW",
        "colab_type": "code",
        "colab": {}
      },
      "source": [
        "from sklearn.metrics import confusion_matrix, classification_report"
      ],
      "execution_count": 0,
      "outputs": []
    },
    {
      "cell_type": "code",
      "metadata": {
        "id": "9mgNwohuyv7e",
        "colab_type": "code",
        "colab": {
          "base_uri": "https://localhost:8080/",
          "height": 50
        },
        "outputId": "ef7b7f30-9d54-415f-af72-62b5c8149d02"
      },
      "source": [
        "confusion_matrix(y_test,ypred,labels=[1,2])"
      ],
      "execution_count": 47,
      "outputs": [
        {
          "output_type": "execute_result",
          "data": {
            "text/plain": [
              "array([[51,  3],\n",
              "       [18,  5]])"
            ]
          },
          "metadata": {
            "tags": []
          },
          "execution_count": 47
        }
      ]
    },
    {
      "cell_type": "code",
      "metadata": {
        "id": "wcwY57g9y-iD",
        "colab_type": "code",
        "colab": {}
      },
      "source": [
        "TP = 51\n",
        "FP = 18\n",
        "TN = 5\n",
        "FN = 3"
      ],
      "execution_count": 0,
      "outputs": []
    },
    {
      "cell_type": "code",
      "metadata": {
        "id": "ERlu-3DJ1MII",
        "colab_type": "code",
        "colab": {
          "base_uri": "https://localhost:8080/",
          "height": 33
        },
        "outputId": "790e3e31-acf3-45a9-be98-3bad205c7274"
      },
      "source": [
        "prpos =TP/(TP+FP)\n",
        "prneg = TN/(TN+FN)\n",
        "print(prpos,prneg)"
      ],
      "execution_count": 58,
      "outputs": [
        {
          "output_type": "stream",
          "text": [
            "0.7391304347826086 0.625\n"
          ],
          "name": "stdout"
        }
      ]
    },
    {
      "cell_type": "code",
      "metadata": {
        "id": "mjIGp1tQ1lML",
        "colab_type": "code",
        "colab": {
          "base_uri": "https://localhost:8080/",
          "height": 33
        },
        "outputId": "324cd315-c4be-4235-f259-28cafedb1964"
      },
      "source": [
        "rcpos =TP/(TP+FN)\n",
        "rcneg = TN/(TN+FP)\n",
        "print(rcpos,rcneg)"
      ],
      "execution_count": 60,
      "outputs": [
        {
          "output_type": "stream",
          "text": [
            "0.9444444444444444 0.21739130434782608\n"
          ],
          "name": "stdout"
        }
      ]
    },
    {
      "cell_type": "code",
      "metadata": {
        "id": "_aItVocy2DyD",
        "colab_type": "code",
        "colab": {
          "base_uri": "https://localhost:8080/",
          "height": 33
        },
        "outputId": "b16b3e79-88c2-4729-e78b-fda2fbb6a969"
      },
      "source": [
        "fscpos = 2*prpos*rcpos/(prpos+rcpos)\n",
        "fscneg = 2*prneg*rcneg/(prneg+rcneg)\n",
        "print(fscpos,fscneg)"
      ],
      "execution_count": 61,
      "outputs": [
        {
          "output_type": "stream",
          "text": [
            "0.8292682926829269 0.3225806451612903\n"
          ],
          "name": "stdout"
        }
      ]
    },
    {
      "cell_type": "code",
      "metadata": {
        "id": "S82rRT0G0Cfo",
        "colab_type": "code",
        "colab": {
          "base_uri": "https://localhost:8080/",
          "height": 167
        },
        "outputId": "b02c0cc2-97de-4270-9632-3a1d7e01dccb"
      },
      "source": [
        "hasil = classification_report(y_test,ypred)\n",
        "print(hasil)"
      ],
      "execution_count": 48,
      "outputs": [
        {
          "output_type": "stream",
          "text": [
            "              precision    recall  f1-score   support\n",
            "\n",
            "           1       0.74      0.94      0.83        54\n",
            "           2       0.62      0.22      0.32        23\n",
            "\n",
            "    accuracy                           0.73        77\n",
            "   macro avg       0.68      0.58      0.58        77\n",
            "weighted avg       0.71      0.73      0.68        77\n",
            "\n"
          ],
          "name": "stdout"
        }
      ]
    },
    {
      "cell_type": "code",
      "metadata": {
        "id": "BkXXd0mn0GTx",
        "colab_type": "code",
        "colab": {}
      },
      "source": [
        ""
      ],
      "execution_count": 0,
      "outputs": []
    }
  ]
}